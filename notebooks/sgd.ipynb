{
 "cells": [
  {
   "cell_type": "code",
   "execution_count": 1,
   "metadata": {},
   "outputs": [],
   "source": [
    "import sys\n",
    "import os\n",
    "import warnings\n",
    "import torch\n",
    "\n",
    "warnings.filterwarnings(\"ignore\")\n",
    "\n",
    "parent_path = os.path.dirname(os.getcwd())\n",
    "sys.path.append(parent_path)\n",
    "\n",
    "import app\n",
    "from app.dp_ml import SGD"
   ]
  },
  {
   "cell_type": "code",
   "execution_count": 2,
   "metadata": {},
   "outputs": [
    {
     "name": "stdout",
     "output_type": "stream",
     "text": [
      "iteration: 0 acc: 75.0\n",
      "iteration: 1 acc: 63.0\n",
      "iteration: 2 acc: 66.0\n",
      "iteration: 3 acc: 72.0\n",
      "iteration: 4 acc: 56.0\n",
      "best acc: 75.0 avg acc: 66.4\n"
     ]
    }
   ],
   "source": [
    "best_model = None\n",
    "models = {}\n",
    "iter_num = 5\n",
    "sum = 0\n",
    "accuracy = 0\n",
    "\n",
    "for i in range(iter_num):\n",
    "    model = SGD()\n",
    "    acc = model.train(synthetic=False)\n",
    "    models[str(i)] = (model, acc)\n",
    "    sum += acc\n",
    "    if acc > accuracy:\n",
    "        best_model = model\n",
    "        accuracy = acc\n",
    "    print(f\"iteration: {i} acc: {acc}\")\n",
    "print(f\"best acc: {accuracy} avg acc: {sum/iter_num}\")"
   ]
  },
  {
   "attachments": {},
   "cell_type": "markdown",
   "metadata": {},
   "source": [
    "# Save Model"
   ]
  },
  {
   "cell_type": "code",
   "execution_count": 3,
   "metadata": {},
   "outputs": [],
   "source": [
    "model_path = os.path.join(parent_path, \"models\", \"sgd.pt\")\n",
    "torch.save(best_model.model.state_dict(), model_path)"
   ]
  }
 ],
 "metadata": {
  "kernelspec": {
   "display_name": "base",
   "language": "python",
   "name": "python3"
  },
  "language_info": {
   "codemirror_mode": {
    "name": "ipython",
    "version": 3
   },
   "file_extension": ".py",
   "mimetype": "text/x-python",
   "name": "python",
   "nbconvert_exporter": "python",
   "pygments_lexer": "ipython3",
   "version": "3.9.12"
  },
  "orig_nbformat": 4,
  "vscode": {
   "interpreter": {
    "hash": "ad2bdc8ecc057115af97d19610ffacc2b4e99fae6737bb82f5d7fb13d2f2c186"
   }
  }
 },
 "nbformat": 4,
 "nbformat_minor": 2
}
