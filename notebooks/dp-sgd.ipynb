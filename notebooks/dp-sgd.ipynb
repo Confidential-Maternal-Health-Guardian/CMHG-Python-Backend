{
 "cells": [
  {
   "cell_type": "code",
   "execution_count": 1,
   "metadata": {},
   "outputs": [],
   "source": [
    "import sys\n",
    "import os\n",
    "import warnings\n",
    "import torch\n",
    "\n",
    "warnings.filterwarnings(\"ignore\")\n",
    "\n",
    "parent_path = os.path.dirname(os.getcwd())\n",
    "sys.path.append(parent_path)\n",
    "\n",
    "import app\n",
    "from app.dp_ml import DPSGD"
   ]
  },
  {
   "attachments": {},
   "cell_type": "markdown",
   "metadata": {},
   "source": [
    "# Best Model Selection"
   ]
  },
  {
   "cell_type": "code",
   "execution_count": 2,
   "metadata": {},
   "outputs": [
    {
     "name": "stdout",
     "output_type": "stream",
     "text": [
      "iteration: 0 epsilon: 0.5 acc: 69.0\n",
      "iteration: 1 epsilon: 0.5 acc: 58.0\n",
      "iteration: 2 epsilon: 0.5 acc: 61.0\n",
      "iteration: 3 epsilon: 0.5 acc: 57.0\n",
      "epsilon: 0.5 best acc: 69.0 avg acc: 61.25\n",
      "iteration: 0 epsilon: 1.0 acc: 70.0\n",
      "iteration: 1 epsilon: 1.0 acc: 56.0\n",
      "iteration: 2 epsilon: 1.0 acc: 62.0\n",
      "iteration: 3 epsilon: 1.0 acc: 61.0\n",
      "epsilon: 1.0 best acc: 70.0 avg acc: 62.25\n",
      "iteration: 0 epsilon: 1.5 acc: 61.0\n",
      "iteration: 1 epsilon: 1.5 acc: 60.0\n",
      "iteration: 2 epsilon: 1.5 acc: 72.0\n",
      "iteration: 3 epsilon: 1.5 acc: 68.0\n",
      "epsilon: 1.5 best acc: 72.0 avg acc: 65.25\n",
      "iteration: 0 epsilon: 2.0 acc: 69.0\n",
      "iteration: 1 epsilon: 2.0 acc: 70.0\n",
      "iteration: 2 epsilon: 2.0 acc: 67.0\n",
      "iteration: 3 epsilon: 2.0 acc: 73.0\n",
      "epsilon: 2.0 best acc: 73.0 avg acc: 69.75\n"
     ]
    }
   ],
   "source": [
    "epsilons = [0.5, 1.0, 1.5, 2.0]\n",
    "best_models = {}\n",
    "epsilon_models = {}\n",
    "iter_num = 4\n",
    "\n",
    "for epsilon in epsilons:\n",
    "    best_model = None\n",
    "    accuracy = 0\n",
    "    sum = 0\n",
    "    models = {}\n",
    "    for i in range(iter_num):\n",
    "        model = DPSGD(epsilon=epsilon, delta=1e-8)\n",
    "        acc = model.train(synthetic=False)\n",
    "        models[str(i)] = (model, acc)\n",
    "        sum += acc\n",
    "        if acc > accuracy:\n",
    "            best_model = model\n",
    "            accuracy = acc\n",
    "        print(f\"iteration: {i} epsilon: {epsilon} acc: {acc}\")\n",
    "    print(f\"epsilon: {epsilon} best acc: {accuracy} avg acc: {sum/iter_num}\")\n",
    "    epsilon_models[str(epsilon)] = models\n",
    "    best_models[str(epsilon)] = (model, accuracy)\n"
   ]
  },
  {
   "attachments": {},
   "cell_type": "markdown",
   "metadata": {},
   "source": [
    "# Save Models"
   ]
  },
  {
   "cell_type": "code",
   "execution_count": 3,
   "metadata": {},
   "outputs": [],
   "source": [
    "for epsilon, trained_model in best_models.items():\n",
    "    dpsgd, acc = trained_model\n",
    "    model_path = os.path.join(parent_path, \"models\", \"dpsgd_\" + str(epsilon).replace('.','_') + \".pt\")\n",
    "    torch.save(dpsgd.model.state_dict(), model_path)"
   ]
  },
  {
   "cell_type": "code",
   "execution_count": null,
   "metadata": {},
   "outputs": [],
   "source": []
  },
  {
   "attachments": {},
   "cell_type": "markdown",
   "metadata": {},
   "source": [
    "# Different epsilon Values"
   ]
  },
  {
   "cell_type": "code",
   "execution_count": 4,
   "metadata": {},
   "outputs": [
    {
     "name": "stdout",
     "output_type": "stream",
     "text": [
      "iteration: 0 epsilon: 0.5 acc: 64.0\n",
      "iteration: 1 epsilon: 0.5 acc: 64.0\n",
      "iteration: 2 epsilon: 0.5 acc: 44.0\n",
      "iteration: 3 epsilon: 0.5 acc: 66.0\n",
      "iteration: 4 epsilon: 0.5 acc: 55.0\n",
      "iteration: 5 epsilon: 0.5 acc: 64.0\n",
      "iteration: 6 epsilon: 0.5 acc: 66.0\n",
      "iteration: 7 epsilon: 0.5 acc: 57.0\n",
      "iteration: 8 epsilon: 0.5 acc: 57.0\n",
      "iteration: 9 epsilon: 0.5 acc: 58.0\n",
      "epsilon: 0.5 best acc: 66.0 avg acc: 59.5\n",
      "iteration: 0 epsilon: 1.0 acc: 67.0\n",
      "iteration: 1 epsilon: 1.0 acc: 56.0\n",
      "iteration: 2 epsilon: 1.0 acc: 68.0\n",
      "iteration: 3 epsilon: 1.0 acc: 62.0\n",
      "iteration: 4 epsilon: 1.0 acc: 58.0\n",
      "iteration: 5 epsilon: 1.0 acc: 62.0\n",
      "iteration: 6 epsilon: 1.0 acc: 62.0\n",
      "iteration: 7 epsilon: 1.0 acc: 58.0\n",
      "iteration: 8 epsilon: 1.0 acc: 64.0\n",
      "iteration: 9 epsilon: 1.0 acc: 55.0\n",
      "epsilon: 1.0 best acc: 68.0 avg acc: 61.2\n",
      "iteration: 0 epsilon: 1.5 acc: 69.0\n",
      "iteration: 1 epsilon: 1.5 acc: 70.0\n",
      "iteration: 2 epsilon: 1.5 acc: 64.0\n",
      "iteration: 3 epsilon: 1.5 acc: 68.0\n",
      "iteration: 4 epsilon: 1.5 acc: 60.0\n",
      "iteration: 5 epsilon: 1.5 acc: 62.0\n",
      "iteration: 6 epsilon: 1.5 acc: 70.0\n",
      "iteration: 7 epsilon: 1.5 acc: 64.0\n",
      "iteration: 8 epsilon: 1.5 acc: 63.0\n",
      "iteration: 9 epsilon: 1.5 acc: 57.0\n",
      "epsilon: 1.5 best acc: 70.0 avg acc: 64.7\n",
      "iteration: 0 epsilon: 2.0 acc: 69.0\n",
      "iteration: 1 epsilon: 2.0 acc: 59.0\n",
      "iteration: 2 epsilon: 2.0 acc: 65.0\n",
      "iteration: 3 epsilon: 2.0 acc: 68.0\n",
      "iteration: 4 epsilon: 2.0 acc: 67.0\n",
      "iteration: 5 epsilon: 2.0 acc: 69.0\n",
      "iteration: 6 epsilon: 2.0 acc: 73.0\n",
      "iteration: 7 epsilon: 2.0 acc: 67.0\n",
      "iteration: 8 epsilon: 2.0 acc: 64.0\n",
      "iteration: 9 epsilon: 2.0 acc: 51.0\n",
      "epsilon: 2.0 best acc: 73.0 avg acc: 65.2\n"
     ]
    }
   ],
   "source": [
    "epsilons = [0.5, 1.0, 1.5, 2.0]\n",
    "best_models = {}\n",
    "epsilon_models = {}\n",
    "epsilon_avg_acc = {}\n",
    "iter_num = 10\n",
    "\n",
    "for epsilon in epsilons:\n",
    "    best_model = None\n",
    "    accuracy = 0\n",
    "    sum = 0\n",
    "    models = {}\n",
    "    for i in range(iter_num):\n",
    "        model = DPSGD(epsilon=epsilon, delta=1e-8)\n",
    "        acc = model.train(synthetic=False)\n",
    "        models[str(i)] = (model, acc)\n",
    "        sum += acc\n",
    "        if acc > accuracy:\n",
    "            best_model = model\n",
    "            accuracy = acc\n",
    "        print(f\"iteration: {i} epsilon: {epsilon} acc: {acc}\")\n",
    "    print(f\"epsilon: {epsilon} best acc: {accuracy} avg acc: {sum/iter_num}\")\n",
    "    epsilon_avg_acc[str(epsilon)] = sum/iter_num\n",
    "    epsilon_models[str(epsilon)] = models\n",
    "    best_models[str(epsilon)] = (model, accuracy)"
   ]
  },
  {
   "cell_type": "code",
   "execution_count": 5,
   "metadata": {},
   "outputs": [
    {
     "name": "stdout",
     "output_type": "stream",
     "text": [
      "epsilon: 0.5 best acc: 66.0 avg acc: 59.5\n",
      "epsilon: 1.0 best acc: 68.0 avg acc: 61.2\n",
      "epsilon: 1.5 best acc: 70.0 avg acc: 64.7\n",
      "epsilon: 2.0 best acc: 73.0 avg acc: 65.2\n"
     ]
    }
   ],
   "source": [
    "for epsilon, avg_acc in epsilon_avg_acc.items():\n",
    "    _, best_acc = best_models[epsilon]\n",
    "    print(f\"epsilon: {epsilon} best acc: {best_acc} avg acc: {avg_acc}\")"
   ]
  },
  {
   "attachments": {},
   "cell_type": "markdown",
   "metadata": {},
   "source": [
    "# Different delta Values"
   ]
  },
  {
   "cell_type": "code",
   "execution_count": 6,
   "metadata": {},
   "outputs": [
    {
     "name": "stdout",
     "output_type": "stream",
     "text": [
      "iteration: 0 delta: 1e-08 acc: 63.0\n",
      "iteration: 1 delta: 1e-08 acc: 68.0\n",
      "iteration: 2 delta: 1e-08 acc: 67.0\n",
      "iteration: 3 delta: 1e-08 acc: 69.0\n",
      "iteration: 4 delta: 1e-08 acc: 70.0\n",
      "iteration: 5 delta: 1e-08 acc: 68.0\n",
      "iteration: 6 delta: 1e-08 acc: 68.0\n",
      "iteration: 7 delta: 1e-08 acc: 61.0\n",
      "iteration: 8 delta: 1e-08 acc: 61.0\n",
      "iteration: 9 delta: 1e-08 acc: 59.0\n",
      "delta: 1e-08 best acc: 70.0 avg acc: 65.4\n",
      "iteration: 0 delta: 1e-05 acc: 62.0\n",
      "iteration: 1 delta: 1e-05 acc: 72.0\n",
      "iteration: 2 delta: 1e-05 acc: 67.0\n",
      "iteration: 3 delta: 1e-05 acc: 71.0\n",
      "iteration: 4 delta: 1e-05 acc: 66.0\n",
      "iteration: 5 delta: 1e-05 acc: 70.0\n",
      "iteration: 6 delta: 1e-05 acc: 69.0\n",
      "iteration: 7 delta: 1e-05 acc: 54.0\n",
      "iteration: 8 delta: 1e-05 acc: 69.0\n",
      "iteration: 9 delta: 1e-05 acc: 56.0\n",
      "delta: 1e-05 best acc: 72.0 avg acc: 65.6\n",
      "iteration: 0 delta: 0.01 acc: 71.0\n",
      "iteration: 1 delta: 0.01 acc: 73.0\n",
      "iteration: 2 delta: 0.01 acc: 70.0\n",
      "iteration: 3 delta: 0.01 acc: 68.0\n",
      "iteration: 4 delta: 0.01 acc: 66.0\n",
      "iteration: 5 delta: 0.01 acc: 67.0\n",
      "iteration: 6 delta: 0.01 acc: 57.0\n",
      "iteration: 7 delta: 0.01 acc: 66.0\n",
      "iteration: 8 delta: 0.01 acc: 59.0\n",
      "iteration: 9 delta: 0.01 acc: 66.0\n",
      "delta: 0.01 best acc: 73.0 avg acc: 66.3\n",
      "iteration: 0 delta: 1 acc: 63.0\n",
      "iteration: 1 delta: 1 acc: 69.0\n",
      "iteration: 2 delta: 1 acc: 77.0\n",
      "iteration: 3 delta: 1 acc: 65.0\n",
      "iteration: 4 delta: 1 acc: 61.0\n",
      "iteration: 5 delta: 1 acc: 74.0\n",
      "iteration: 6 delta: 1 acc: 69.0\n",
      "iteration: 7 delta: 1 acc: 62.0\n",
      "iteration: 8 delta: 1 acc: 73.0\n",
      "iteration: 9 delta: 1 acc: 65.0\n",
      "delta: 1 best acc: 77.0 avg acc: 67.8\n"
     ]
    }
   ],
   "source": [
    "deltas = [1e-8, 1e-5, 1e-2, 1]\n",
    "best_models = {}\n",
    "delta_models = {}\n",
    "delta_avg_acc = {}\n",
    "iter_num = 10\n",
    "\n",
    "for delta in deltas:\n",
    "    best_model = None\n",
    "    accuracy = 0\n",
    "    sum = 0\n",
    "    models = {}\n",
    "    for i in range(iter_num):\n",
    "        model = DPSGD(epsilon=2.0, delta=delta)\n",
    "        acc = model.train(synthetic=False)\n",
    "        models[str(i)] = (model, acc)\n",
    "        sum += acc\n",
    "        if acc > accuracy:\n",
    "            best_model = model\n",
    "            accuracy = acc\n",
    "        print(f\"iteration: {i} delta: {delta} acc: {acc}\")\n",
    "    print(f\"delta: {delta} best acc: {accuracy} avg acc: {sum/iter_num}\")\n",
    "    delta_avg_acc[str(delta)] = sum/iter_num\n",
    "    delta_models[str(delta)] = models\n",
    "    best_models[str(delta)] = (model, accuracy)\n"
   ]
  },
  {
   "cell_type": "code",
   "execution_count": 7,
   "metadata": {},
   "outputs": [
    {
     "name": "stdout",
     "output_type": "stream",
     "text": [
      "delta: 1e-08 best acc: 70.0 avg acc: 65.4\n",
      "delta: 1e-05 best acc: 72.0 avg acc: 65.6\n",
      "delta: 0.01 best acc: 73.0 avg acc: 66.3\n",
      "delta: 1 best acc: 77.0 avg acc: 67.8\n"
     ]
    }
   ],
   "source": [
    "for delta, avg_acc in delta_avg_acc.items():\n",
    "    _, best_acc = best_models[delta]\n",
    "    print(f\"delta: {delta} best acc: {best_acc} avg acc: {avg_acc}\")"
   ]
  },
  {
   "cell_type": "code",
   "execution_count": null,
   "metadata": {},
   "outputs": [],
   "source": []
  },
  {
   "cell_type": "code",
   "execution_count": null,
   "metadata": {},
   "outputs": [],
   "source": []
  },
  {
   "cell_type": "code",
   "execution_count": null,
   "metadata": {},
   "outputs": [],
   "source": []
  }
 ],
 "metadata": {
  "kernelspec": {
   "display_name": "base",
   "language": "python",
   "name": "python3"
  },
  "language_info": {
   "codemirror_mode": {
    "name": "ipython",
    "version": 3
   },
   "file_extension": ".py",
   "mimetype": "text/x-python",
   "name": "python",
   "nbconvert_exporter": "python",
   "pygments_lexer": "ipython3",
   "version": "3.9.12 (main, Apr  4 2022, 05:22:27) [MSC v.1916 64 bit (AMD64)]"
  },
  "orig_nbformat": 4,
  "vscode": {
   "interpreter": {
    "hash": "ad2bdc8ecc057115af97d19610ffacc2b4e99fae6737bb82f5d7fb13d2f2c186"
   }
  }
 },
 "nbformat": 4,
 "nbformat_minor": 2
}
