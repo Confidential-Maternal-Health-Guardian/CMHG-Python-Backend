{
 "cells": [
  {
   "cell_type": "code",
   "execution_count": 1,
   "metadata": {},
   "outputs": [],
   "source": [
    "import sys\n",
    "import os\n",
    "import warnings\n",
    "import torch\n",
    "\n",
    "warnings.filterwarnings(\"ignore\")\n",
    "\n",
    "parent_path = os.path.dirname(os.getcwd())\n",
    "sys.path.append(parent_path)\n",
    "\n",
    "import app\n",
    "from app.dp_ml import DPSGD"
   ]
  },
  {
   "cell_type": "code",
   "execution_count": 2,
   "metadata": {},
   "outputs": [
    {
     "name": "stdout",
     "output_type": "stream",
     "text": [
      "iteration: 0 epsilon: 0.5 acc: 69.0\n",
      "iteration: 1 epsilon: 0.5 acc: 58.0\n",
      "iteration: 2 epsilon: 0.5 acc: 61.0\n",
      "iteration: 3 epsilon: 0.5 acc: 57.0\n",
      "epsilon: 0.5 best acc: 69.0 avg acc: 61.25\n",
      "iteration: 0 epsilon: 1.0 acc: 70.0\n",
      "iteration: 1 epsilon: 1.0 acc: 56.0\n",
      "iteration: 2 epsilon: 1.0 acc: 62.0\n",
      "iteration: 3 epsilon: 1.0 acc: 61.0\n",
      "epsilon: 1.0 best acc: 70.0 avg acc: 62.25\n",
      "iteration: 0 epsilon: 1.5 acc: 61.0\n",
      "iteration: 1 epsilon: 1.5 acc: 60.0\n",
      "iteration: 2 epsilon: 1.5 acc: 72.0\n",
      "iteration: 3 epsilon: 1.5 acc: 68.0\n",
      "epsilon: 1.5 best acc: 72.0 avg acc: 65.25\n",
      "iteration: 0 epsilon: 2.0 acc: 69.0\n",
      "iteration: 1 epsilon: 2.0 acc: 70.0\n",
      "iteration: 2 epsilon: 2.0 acc: 67.0\n",
      "iteration: 3 epsilon: 2.0 acc: 73.0\n",
      "epsilon: 2.0 best acc: 73.0 avg acc: 69.75\n"
     ]
    }
   ],
   "source": [
    "epsilons = [0.5, 1.0, 1.5, 2.0]\n",
    "best_models = {}\n",
    "epsilon_models = {}\n",
    "iter_num = 4\n",
    "\n",
    "for epsilon in epsilons:\n",
    "    best_model = None\n",
    "    accuracy = 0\n",
    "    sum = 0\n",
    "    models = {}\n",
    "    for i in range(iter_num):\n",
    "        model = DPSGD(epsilon=epsilon, delta=1e-8)\n",
    "        acc = model.train(synthetic=False)\n",
    "        models[str(i)] = (model, acc)\n",
    "        sum += acc\n",
    "        if acc > accuracy:\n",
    "            best_model = model\n",
    "            accuracy = acc\n",
    "        print(f\"iteration: {i} epsilon: {epsilon} acc: {acc}\")\n",
    "    print(f\"epsilon: {epsilon} best acc: {accuracy} avg acc: {sum/iter_num}\")\n",
    "    epsilon_models[str(epsilon)] = models\n",
    "    best_models[str(epsilon)] = (model, accuracy)\n"
   ]
  },
  {
   "attachments": {},
   "cell_type": "markdown",
   "metadata": {},
   "source": [
    "# Save Models"
   ]
  },
  {
   "cell_type": "code",
   "execution_count": 3,
   "metadata": {},
   "outputs": [],
   "source": [
    "for epsilon, trained_model in best_models.items():\n",
    "    dpsgd, acc = trained_model\n",
    "    model_path = os.path.join(parent_path, \"models\", \"dpsgd_\" + str(epsilon).replace('.','_') + \".pt\")\n",
    "    torch.save(dpsgd.model.state_dict(), model_path)"
   ]
  }
 ],
 "metadata": {
  "kernelspec": {
   "display_name": "base",
   "language": "python",
   "name": "python3"
  },
  "language_info": {
   "codemirror_mode": {
    "name": "ipython",
    "version": 3
   },
   "file_extension": ".py",
   "mimetype": "text/x-python",
   "name": "python",
   "nbconvert_exporter": "python",
   "pygments_lexer": "ipython3",
   "version": "3.9.12"
  },
  "orig_nbformat": 4,
  "vscode": {
   "interpreter": {
    "hash": "ad2bdc8ecc057115af97d19610ffacc2b4e99fae6737bb82f5d7fb13d2f2c186"
   }
  }
 },
 "nbformat": 4,
 "nbformat_minor": 2
}
